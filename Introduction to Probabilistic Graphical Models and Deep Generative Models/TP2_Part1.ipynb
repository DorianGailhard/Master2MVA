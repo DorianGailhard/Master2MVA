{
 "cells": [
  {
   "cell_type": "markdown",
   "id": "62c03dfa",
   "metadata": {},
   "source": [
    "Dorian Gailhard & Paul Grangette"
   ]
  },
  {
   "cell_type": "code",
   "execution_count": 4,
   "id": "c0fb142a",
   "metadata": {},
   "outputs": [],
   "source": [
    "import numpy as np\n",
    "import scipy.stats as sp\n",
    "import pandas as pd\n",
    "import matplotlib.pyplot as plt"
   ]
  },
  {
   "cell_type": "code",
   "execution_count": 14,
   "id": "fde66679",
   "metadata": {},
   "outputs": [],
   "source": [
    "#Gaussian processes\n",
    "#1)\n",
    "def kernel(theta,x_i,x_j):\n",
    "    return theta[0]*np.exp(-theta[1]/2*(x_i-x_j)@(x_i-x_j)) + theta[2] + theta[3]*x_i@x_j\n",
    "\n",
    "def C(X,theta):\n",
    "    n = X.shape[0]\n",
    "    c = np.array([[kernel(theta,X[i],X[j]) for j in range(n)] for i in range(n)])\n",
    "    \n",
    "    c += theta[4]*np.eye(n)\n",
    "\n",
    "    return c\n",
    "\n",
    "#Gradient descent with barrier method to keep theta positive\n",
    "def training(Y,X,n_iter,learning_rate):\n",
    "    n = X.shape[0]\n",
    "    p = X.shape[1]\n",
    "    \n",
    "    theta = np.random.random(size=5)\n",
    "    \n",
    "    loglike = np.zeros(n_iter)\n",
    "    \n",
    "    for k in range(n_iter):\n",
    "        #Kernel matrix\n",
    "        C_N = C(X,theta)\n",
    "        C_N_inv = np.linalg.inv(C_N)\n",
    "        \n",
    "        #Derivative of the kernel matrix\n",
    "        dC_N_dtheta = np.zeros((5,n,n))\n",
    "        dC_N_dtheta[0] = np.array([[np.exp(-theta[1]/2*(X[i] - X[j])@(X[i] - X[j])) for j in range(n)] for i in range(n)])\n",
    "        dC_N_dtheta[1] = np.array([[-1/2*(X[i] - X[j])@(X[i] - X[j]) * theta[0] * np.exp(-theta[1]/2*(X[i] - X[j])@(X[i] - X[j])) for j in range(n)] for i in range(n)])\n",
    "        dC_N_dtheta[2] = np.ones((n,n))\n",
    "        dC_N_dtheta[3] = np.array([[X[i]@X[j] for j in range(n)] for i in range(n)])\n",
    "        dC_N_dtheta[4] = np.eye(n)\n",
    "        \n",
    "        #Computing the step\n",
    "        step = np.array([-1/2*np.trace(C_N_inv@dC_N_dtheta[i]) + 1/2*Y@(C_N_inv@dC_N_dtheta[i]@C_N_inv@Y) for i in range(5)])\n",
    "        step /= np.linalg.norm(step) #To stabilize the descent\n",
    "        \n",
    "        #Updating theta\n",
    "        theta += learning_rate[k] * step\n",
    "        \n",
    "        loglike[k] = -1/2*np.log(np.linalg.det(C_N)) - 1/2*Y@(C_N_inv@Y) - n/2*np.log(2*np.pi)\n",
    "\n",
    "    C_N = C(X,theta)\n",
    "    C_N_inv = np.linalg.inv(C_N)\n",
    "    return theta, C_N, C_N_inv, loglike"
   ]
  },
  {
   "cell_type": "code",
   "execution_count": 15,
   "id": "10bd28e0",
   "metadata": {},
   "outputs": [],
   "source": [
    "#2)\n",
    "def pred(x_new,X,Y,C_,C_inv,theta_):\n",
    "    n = X.shape[0]\n",
    "    \n",
    "    #Computing of k\n",
    "    k = np.array([kernel(theta_,X[i],x_new) for i in range(n)])\n",
    "    \n",
    "    #Computing of c\n",
    "    c = kernel(theta,x_new,x_new) + theta_[4]\n",
    "    \n",
    "    #Prediction\n",
    "    m = k@(C_inv@Y)\n",
    "    sigma2 = c - k@(C_inv@k)\n",
    "    \n",
    "    return sp.norm(loc=m,scale=np.sqrt(sigma2))"
   ]
  },
  {
   "cell_type": "code",
   "execution_count": 16,
   "id": "c9150aaa",
   "metadata": {},
   "outputs": [
    {
     "name": "stdout",
     "output_type": "stream",
     "text": [
      "        Unnamed: 0  Murder  Assault  UrbanPop\n",
      "0          Alabama    13.2      236        58\n",
      "1           Alaska    10.0      263        48\n",
      "2          Arizona     8.1      294        80\n",
      "3         Arkansas     8.8      190        50\n",
      "4       California     9.0      276        91\n",
      "5         Colorado     7.9      204        78\n",
      "6      Connecticut     3.3      110        77\n",
      "7         Delaware     5.9      238        72\n",
      "8          Florida    15.4      335        80\n",
      "9          Georgia    17.4      211        60\n",
      "10          Hawaii     5.3       46        83\n",
      "11           Idaho     2.6      120        54\n",
      "12        Illinois    10.4      249        83\n",
      "13         Indiana     7.2      113        65\n",
      "14            Iowa     2.2       56        57\n",
      "15          Kansas     6.0      115        66\n",
      "16        Kentucky     9.7      109        52\n",
      "17       Louisiana    15.4      249        66\n",
      "18           Maine     2.1       83        51\n",
      "19        Maryland    11.3      300        67\n",
      "20   Massachusetts     4.4      149        85\n",
      "21        Michigan    12.1      255        74\n",
      "22       Minnesota     2.7       72        66\n",
      "23     Mississippi    16.1      259        44\n",
      "24        Missouri     9.0      178        70\n",
      "25         Montana     6.0      109        53\n",
      "26        Nebraska     4.3      102        62\n",
      "27          Nevada    12.2      252        81\n",
      "28   New Hampshire     2.1       57        56\n",
      "29      New Jersey     7.4      159        89\n",
      "30      New Mexico    11.4      285        70\n",
      "31        New York    11.1      254        86\n",
      "32  North Carolina    13.0      337        45\n",
      "33    North Dakota     0.8       45        44\n",
      "34            Ohio     7.3      120        75\n",
      "35        Oklahoma     6.6      151        68\n",
      "36          Oregon     4.9      159        67\n",
      "37    Pennsylvania     6.3      106        72\n",
      "38    Rhode Island     3.4      174        87\n",
      "39  South Carolina    14.4      279        48\n",
      "40    South Dakota     3.8       86        45\n",
      "41       Tennessee    13.2      188        59\n",
      "42           Texas    12.7      201        80\n",
      "43            Utah     3.2      120        80\n",
      "44         Vermont     2.2       48        32\n",
      "45        Virginia     8.5      156        63\n",
      "46      Washington     4.0      145        73\n",
      "47   West Virginia     5.7       81        39\n",
      "48       Wisconsin     2.6       53        66\n",
      "49         Wyoming     6.8      161        60\n"
     ]
    }
   ],
   "source": [
    "data = pd.read_csv(\"UScrimes.csv\")\n",
    "\n",
    "print(data)"
   ]
  },
  {
   "cell_type": "code",
   "execution_count": 17,
   "id": "4806966b",
   "metadata": {},
   "outputs": [],
   "source": [
    "#Training\n",
    "n_samples = data.shape[0]\n",
    "\n",
    "data_training = data[[\"Murder\",\"Assault\",\"UrbanPop\"]].to_numpy()[0:int(n_samples*3/4)]\n",
    "\n",
    "X_training = data_training[:,1:3]\n",
    "Y_training = data_training[:,0]"
   ]
  },
  {
   "cell_type": "code",
   "execution_count": 75,
   "id": "3f4c5094",
   "metadata": {},
   "outputs": [
    {
     "data": {
      "image/png": "[encoded data removed]",
      "text/plain": [
       "<Figure size 432x288 with 1 Axes>"
      ]
     },
     "metadata": {
      "needs_background": "light"
     },
     "output_type": "display_data"
    },
    {
     "name": "stdout",
     "output_type": "stream",
     "text": [
      "[2.62448764 0.2317864  0.89271073 0.17785628 2.59929735]\n"
     ]
    }
   ],
   "source": [
    "n_iter = 90\n",
    "learning_rate = np.array([1/(k+1)**1.2 for k in range(90)])\n",
    "\n",
    "theta, C_matrix, C_inv, loglike = training(Y_training,X_training,n_iter,learning_rate)\n",
    "\n",
    "plt.plot(np.arange(0,n_iter),loglike)\n",
    "plt.xlabel(\"Training step\")\n",
    "plt.ylabel(\"Loglikelihood\")\n",
    "plt.title(\"Loglikelihood across training procedure\")\n",
    "plt.show()\n",
    "\n",
    "print(theta)"
   ]
  },
  {
   "cell_type": "code",
   "execution_count": 76,
   "id": "533e43ca",
   "metadata": {},
   "outputs": [],
   "source": [
    "#Test\n",
    "data_test = data[[\"Murder\",\"Assault\",\"UrbanPop\"]].to_numpy()[int(n_samples*3/4)+1:n_samples]\n",
    "\n",
    "X_test = data_test[:,1:3]\n",
    "Y_test = data_test[:,0]\n",
    "\n",
    "Y_pred = np.array([pred(x,X_training,Y_training,C_matrix,C_inv,theta).mean() for x in X_test])\n",
    "\n",
    "RMSE = np.linalg.norm((Y_test-Y_pred)/np.sqrt(Y_test.shape[0]))"
   ]
  },
  {
   "cell_type": "code",
   "execution_count": 77,
   "id": "0827be19",
   "metadata": {},
   "outputs": [],
   "source": [
    "#Multivariate linear model\n",
    "X = X_training\n",
    "\n",
    "w = np.linalg.inv(X.T@X)@X.T@Y_training\n",
    "\n",
    "Y_pred_linear = X_test@w\n",
    "\n",
    "RMSE_linear = np.linalg.norm((Y_test-Y_pred_linear)/np.sqrt(Y_pred_linear.shape[0]))\n",
    "\n",
    "#Multivariate affine model\n",
    "X = np.hstack((X_training,np.ones((X_training.shape[0],1))))\n",
    "\n",
    "w = np.linalg.inv(X.T@X)@X.T@Y_training\n",
    "\n",
    "Y_pred_affine = X_test@w[0:-1] + w[-1]\n",
    "\n",
    "RMSE_affine = np.linalg.norm((Y_test-Y_pred_affine)/np.sqrt(Y_pred_affine.shape[0]))"
   ]
  },
  {
   "cell_type": "code",
   "execution_count": 78,
   "id": "7574411d",
   "metadata": {},
   "outputs": [
    {
     "name": "stdout",
     "output_type": "stream",
     "text": [
      "The RMSE obtained with Gaussian Processes is 2.566516\n",
      "The RMSE obtained with Multivariate Linear Model is 2.595638\n",
      "The RMSE obtained with Multivariate Affine Model is 2.422705\n"
     ]
    }
   ],
   "source": [
    "print(\"The RMSE obtained with Gaussian Processes is %f\"%RMSE)\n",
    "print(\"The RMSE obtained with Multivariate Linear Model is %f\"%RMSE_linear)\n",
    "print(\"The RMSE obtained with Multivariate Affine Model is %f\"%RMSE_affine)"
   ]
  },
  {
   "cell_type": "markdown",
   "id": "be40133b",
   "metadata": {},
   "source": [
    "The Gaussian Processes regression performs slightly better than the Linear regression but worse than the affine model."
   ]
  }
 ],
 "metadata": {
  "kernelspec": {
   "display_name": "Python 3",
   "language": "python",
   "name": "python3"
  },
  "language_info": {
   "codemirror_mode": {
    "name": "ipython",
    "version": 3
   },
   "file_extension": ".py",
   "mimetype": "text/x-python",
   "name": "python",
   "nbconvert_exporter": "python",
   "pygments_lexer": "ipython3",
   "version": "3.8.8"
  }
 },
 "nbformat": 4,
 "nbformat_minor": 5
}
